{
 "cells": [
  {
   "cell_type": "code",
   "execution_count": 1,
   "id": "7e6c4b91",
   "metadata": {},
   "outputs": [],
   "source": [
    "import ee\n",
    "import geemap\n",
    "import fiona"
   ]
  },
  {
   "cell_type": "code",
   "execution_count": 2,
   "id": "a01737a8",
   "metadata": {},
   "outputs": [
    {
     "data": {
      "application/vnd.jupyter.widget-view+json": {
       "model_id": "a725b47d052841ddae3e77422ca636e0",
       "version_major": 2,
       "version_minor": 0
      },
      "text/plain": [
       "Map(center=[20, 0], controls=(WidgetControl(options=['position', 'transparent_bg'], widget=HBox(children=(Togg…"
      ]
     },
     "metadata": {},
     "output_type": "display_data"
    }
   ],
   "source": [
    "Map = geemap.Map()\n",
    "Map\n",
    "\n",
    "  "
   ]
  },
  {
   "cell_type": "code",
   "execution_count": 3,
   "id": "c14fb1be",
   "metadata": {},
   "outputs": [],
   "source": [
    "# Center it over London\n",
    "Map.setCenter(-0.0894, 51.4964, 9.5) # center on London (lat, lon, zoom)\n"
   ]
  },
  {
   "cell_type": "code",
   "execution_count": 57,
   "id": "5cace9c8",
   "metadata": {},
   "outputs": [
    {
     "name": "stderr",
     "output_type": "stream",
     "text": [
      "C:\\Users\\paulw\\miniconda3\\envs\\gee\\envs\\geemap\\envs\\gee2\\lib\\site-packages\\geopandas\\io\\file.py:362: FutureWarning: pandas.Int64Index is deprecated and will be removed from pandas in a future version. Use pandas.Index with the appropriate dtype instead.\n",
      "  pd.Int64Index,\n"
     ]
    }
   ],
   "source": [
    "# Load the Municipal Areas (FeatureCollection)\n",
    "london_extent_shp = './data/shp/london_by_ward/raw_shp_file/LondonWard.shp'\n",
    "london_wards = geemap.shp_to_ee(london_extent_shp)\n",
    "\n",
    "Map.addLayer(london_wards, {}, 'London Wards')\n",
    "\n",
    "# NOTE:  This will create a warning on Windows. I'm successfully ignoring it for now.\n",
    "#        \"FutureWarning: pandas.Int64Index is deprecated and will be removed from pandas \n",
    "#        in a future version. Use pandas.Index with the appropriate dtype instead. \n",
    "#        pd.Int64Index\"\n"
   ]
  },
  {
   "cell_type": "code",
   "execution_count": 5,
   "id": "4e861358",
   "metadata": {},
   "outputs": [],
   "source": [
    "# LANDCOVER\n",
    "# Not sure if this will be significant. There isn't much in London. \n",
    "#\n",
    "# NOTE: See that `clipToCollection` method? It chops up our Rasters using our feature collection.\n",
    "#\n",
    "#    @see https://developers.google.com/earth-engine/datasets/catalog/MODIS_006_MCD12Q1#bands\n",
    "#    @see Clipping to a FeatureCollection https://developers.google.com/earth-engine/apidocs/ee-image-clip\n",
    "#\n",
    "landcover = ee.Image('MODIS/051/MCD12Q1/2013_01_01').select('Land_Cover_Type_1').clipToCollection(london_wards)\n",
    "Map.addLayer(landcover, {}, 'MODIS Land Cover')\n",
    "\n"
   ]
  },
  {
   "cell_type": "code",
   "execution_count": 6,
   "id": "5d7c98ad",
   "metadata": {},
   "outputs": [],
   "source": [
    "# @see https://developers.google.com/earth-engine/datasets/catalog/MODIS_006_MCD12Q1#bands\n",
    "landcover2Col = ee.Image('MODIS/051/MCD12Q1/2001_01_01').select('Land_Cover_Type_1')#.clipToCollection(london_wards)\n",
    "#landcover2Image = landcover2Col.first()\n",
    "Map.addLayer(landcover2Col, {}, 'MODIS Land Cover 2019-12-01')\n"
   ]
  },
  {
   "cell_type": "code",
   "execution_count": 7,
   "id": "7550a9be",
   "metadata": {},
   "outputs": [],
   "source": [
    "# @see https://developers.google.com/earth-engine/datasets/catalog/MODIS_006_MCD12Q1#bands\n",
    "MODIS_VIS_PALLETTE = {\n",
    "  'min': 1.0,\n",
    "  'max': 17.0,\n",
    "  'palette': [\n",
    "    '05450a', '086a10', '54a708', '78d203', '009900', 'c6b044', 'dcd159',\n",
    "    'dade48', 'fbff13', 'b6ff05', '27ff87', 'c24f44', 'a5a5a5', 'ff6d4c',\n",
    "    '69fff8', 'f9ffa4', '1c0dff'\n",
    "  ],\n",
    "}\n",
    "\n",
    "# @see Clipping to a FeatureCollection https://developers.google.com/earth-engine/apidocs/ee-image-clip\n",
    "modisLandcoverCol = ee.ImageCollection('MODIS/006/MCD12Q1').select('LC_Type1')\n",
    "#\n",
    "# NOTE: See that `clipToCollection` method? It chops up our Rasters using our feature collection.\n",
    "#\n",
    "# early years\n",
    "landcover2Image = modisLandcoverCol.filterDate('2019-01-01', '2019-12-31').first().clipToCollection(london_wards)\n",
    "Map.addLayer(landcover2Image, MODIS_VIS_PALLETTE, 'MODIS 2019')\n",
    "\n",
    "# later years\n",
    "landcover2Image = modisLandcoverCol.filterDate('2001-01-01', '2001-01-02').first().clipToCollection(london_wards)\n",
    "Map.addLayer(landcover2Image, MODIS_VIS_PALLETTE, 'MODIS 2001')"
   ]
  },
  {
   "cell_type": "code",
   "execution_count": 8,
   "id": "ee803bb3",
   "metadata": {},
   "outputs": [
    {
     "data": {
      "text/plain": [
       "<ee.featurecollection.FeatureCollection at 0x144b98546d0>"
      ]
     },
     "execution_count": 8,
     "metadata": {},
     "output_type": "execute_result"
    }
   ],
   "source": [
    "# check to see what kind of data type this is so we can see what we can do with it.\n",
    "london_wards"
   ]
  },
  {
   "cell_type": "code",
   "execution_count": 9,
   "id": "a4b0f94c",
   "metadata": {},
   "outputs": [],
   "source": [
    "ee_class_table = \"\"\"\n",
    "\n",
    "Value\tColor\tDescription\n",
    "0\t1c0dff\tWater\n",
    "1\t05450a\tEvergreen needleleaf forest\n",
    "2\t086a10\tEvergreen broadleaf forest\n",
    "3\t54a708\tDeciduous needleleaf forest\n",
    "4\t78d203\tDeciduous broadleaf forest\n",
    "5\t009900\tMixed forest\n",
    "6\tc6b044\tClosed shrublands\n",
    "7\tdcd159\tOpen shrublands\n",
    "8\tdade48\tWoody savannas\n",
    "9\tfbff13\tSavannas\n",
    "10\tb6ff05\tGrasslands\n",
    "11\t27ff87\tPermanent wetlands\n",
    "12\tc24f44\tCroplands\n",
    "13\ta5a5a5\tUrban and built-up\n",
    "14\tff6d4c\tCropland/natural vegetation mosaic\n",
    "15\t69fff8\tSnow and ice\n",
    "16\tf9ffa4\tBarren or sparsely vegetated\n",
    "254\tffffff\tUnclassified\n",
    "\n",
    "\"\"\"\n",
    "\n",
    "legend_dict = geemap.legend_from_ee(ee_class_table)\n",
    "Map.add_legend(legend_title=\"MODIS Global Land Cover\", legend_dict=legend_dict)\n",
    "\n"
   ]
  },
  {
   "cell_type": "code",
   "execution_count": 43,
   "id": "993bcb5d",
   "metadata": {},
   "outputs": [
    {
     "data": {
      "text/plain": [
       "<ee.image.Image at 0x144c50460a0>"
      ]
     },
     "execution_count": 43,
     "metadata": {},
     "output_type": "execute_result"
    }
   ],
   "source": [
    "greennessVis = {\n",
    "  'min': 0.1,\n",
    "  'max': 0.85,\n",
    "  'palette': ['fffdcd', 'e1cd73', 'aaac20', '5f920c', '187328', '144b2a', '172313']\n",
    "};\n",
    "\n",
    "# Visualization parameters for true color display.\n",
    "trueColorVis = {\n",
    "  'min': 0.0,\n",
    "  'max': 0.4,\n",
    "  'gamma': 1.2,\n",
    "};\n",
    "\n",
    "    \n",
    "    \n",
    "def greenessPixel( startDate, endDate, layerTitle ):\n",
    "    \n",
    "    \"\"\"\n",
    "    Method for making layers with Greenest NDVI pixel: \n",
    "    Possible dates: 1999-01-01T00:00:00Z - 2021-01-01T00:00:00\n",
    "    \n",
    "    Parameters\n",
    "    ----------\n",
    "    startDate : str\n",
    "        Date start string. Like '2002-01-01'\n",
    "    endDate : str\n",
    "        Date end string. Like '2002-12-31'\n",
    "    layerTitle : str\n",
    "        The title prefix that will differentiate the two layers it will create from others.\n",
    "        \n",
    "    @see https://developers.google.com/earth-engine/datasets/catalog/LANDSAT_LE07_C01_T1_ANNUAL_GREENEST_TOA?hl=en\n",
    "    \"\"\"\n",
    "\n",
    "    # Import the dataset, filter to 2002, get the image.\n",
    "\n",
    "    dataset = ee.ImageCollection('LANDSAT/LE07/C01/T1_ANNUAL_GREENEST_TOA').filterDate(startDate, endDate).first();\n",
    "\n",
    "    # Get the greenness band.\n",
    "    greenness = dataset.select('greenness').clipToCollection(london_wards);\n",
    "\n",
    "    # Get bands for true color RGB display.\n",
    "    trueColor = dataset.select(['B3', 'B2', 'B1']).clipToCollection(london_wards); # NOTE: See that `clipToCollection` method? It chops up our Rasters using our feature collection.\n",
    "\n",
    "    # Define a mask for low greenness, make low greenness partially transparent.\n",
    "    mask = dataset.select('greenness').gt(0.1).remap([0, 1], [0.5, 1]);\n",
    "\n",
    "    # Visualization parameters for greenness display.\n",
    "    \n",
    "    maskedGreeness = greenness.updateMask(mask)\n",
    "    \n",
    "    # Display the layers on the map with mask applied.\n",
    "    Map.addLayer(trueColor.updateMask(mask), trueColorVis, layerTitle + ' True Color (432)', False);\n",
    "    Map.addLayer(maskedGreeness, greennessVis, layerTitle + ' Greenness');\n",
    "    \n",
    "    return maskedGreeness\n",
    "\n",
    "    \n",
    "greenessByWard_2001_img = greenessPixel('2001-01-01', '2001-12-31', \"2001\")\n",
    "greenessByWard_2020_img = greenessPixel('2020-01-01', '2021-01-01', \"2020\")\n",
    "\n",
    "# print out results\n",
    "greenessByWard_2001_img\n",
    "greenessByWard_2020_img"
   ]
  },
  {
   "cell_type": "code",
   "execution_count": 45,
   "id": "9750f358",
   "metadata": {},
   "outputs": [],
   "source": [
    "import os\n",
    "import ee\n",
    "import geemap\n",
    "\n",
    "def createShpWithMeanGreen( img, fc ):\n",
    "    # try and get the average \"Greeness\" (aka NDVI)\n",
    "    # feature collection\n",
    "    return img.reduceRegions( fc, ee.Reducer.mean(), 30, \"EPSG:32629\");\n",
    "\n",
    "greenessByWard_2001 = createShpWithMeanGreen(greenessByWard_2001_img, london_wards)\n",
    "greenessByWard_2020 = createShpWithMeanGreen(greenessByWard_2020_img, london_wards)"
   ]
  },
  {
   "cell_type": "code",
   "execution_count": 56,
   "id": "c714955f",
   "metadata": {},
   "outputs": [
    {
     "name": "stdout",
     "output_type": "stream",
     "text": [
      "Generating URL ...\n",
      "Downloading data from https://earthengine.googleapis.com/v1alpha/projects/earthengine-legacy/tables/7fa35b4f5c85a43675b243b311bc4dea-aa5872c76037d6d453050745494c8f0d:getFeatures\n",
      "Please wait ...\n",
      "Data downloaded to C:\\Users\\paulw\\Downloads\\London_MeanGreenessByWard_2001.shp\n",
      "Generating URL ...\n",
      "Downloading data from https://earthengine.googleapis.com/v1alpha/projects/earthengine-legacy/tables/609dc6c09f2c281bf5deb922eb028d1f-b7a3c0617e29207b6847658450e1af6d:getFeatures\n",
      "Please wait ...\n",
      "Data downloaded to C:\\Users\\paulw\\Downloads\\London_MeanGreenessByWard_2020.shp\n"
     ]
    }
   ],
   "source": [
    "def writeToShpFile( fc, fileName):\n",
    "    # Write out shape file\n",
    "    out_dir = os.path.expanduser(\"~/Downloads\")\n",
    "\n",
    "    if not os.path.exists(out_dir):\n",
    "        os.makedirs(out_dir)\n",
    "\n",
    "    out_shp = os.path.join(out_dir, fileName)\n",
    "    geemap.ee_export_vector(fc, out_shp, verbose=True)\n",
    "\n",
    "writeToShpFile( greenessByWard_2001, \"London_MeanGreenessByWard_2001.shp\")\n",
    "writeToShpFile( greenessByWard_2020, \"London_MeanGreenessByWard_2020.shp\")"
   ]
  },
  {
   "cell_type": "code",
   "execution_count": null,
   "id": "f8713974",
   "metadata": {},
   "outputs": [],
   "source": []
  }
 ],
 "metadata": {
  "kernelspec": {
   "display_name": "Python 3 (ipykernel)",
   "language": "python",
   "name": "python3"
  },
  "language_info": {
   "codemirror_mode": {
    "name": "ipython",
    "version": 3
   },
   "file_extension": ".py",
   "mimetype": "text/x-python",
   "name": "python",
   "nbconvert_exporter": "python",
   "pygments_lexer": "ipython3",
   "version": "3.9.7"
  }
 },
 "nbformat": 4,
 "nbformat_minor": 5
}
