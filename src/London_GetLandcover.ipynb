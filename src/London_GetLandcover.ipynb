{
 "cells": [
  {
   "cell_type": "code",
   "execution_count": 1,
   "id": "7e6c4b91",
   "metadata": {},
   "outputs": [],
   "source": [
    "import ee\n",
    "import geemap\n",
    "import fiona"
   ]
  },
  {
   "cell_type": "code",
   "execution_count": 2,
   "id": "a01737a8",
   "metadata": {},
   "outputs": [
    {
     "data": {
      "application/vnd.jupyter.widget-view+json": {
       "model_id": "41144db62f62482987f208e650c90dbb",
       "version_major": 2,
       "version_minor": 0
      },
      "text/plain": [
       "Map(center=[20, 0], controls=(WidgetControl(options=['position', 'transparent_bg'], widget=HBox(children=(Togg…"
      ]
     },
     "metadata": {},
     "output_type": "display_data"
    }
   ],
   "source": [
    "Map = geemap.Map()\n",
    "Map\n",
    "\n",
    "  "
   ]
  },
  {
   "cell_type": "code",
   "execution_count": 3,
   "id": "c14fb1be",
   "metadata": {},
   "outputs": [],
   "source": [
    "# Center it over London\n",
    "Map.setCenter(-0.0894, 51.4964, 9.5) # center on London (lat, lon, zoom)\n"
   ]
  },
  {
   "cell_type": "code",
   "execution_count": 4,
   "id": "5cace9c8",
   "metadata": {},
   "outputs": [
    {
     "name": "stderr",
     "output_type": "stream",
     "text": [
      "C:\\Users\\paulw\\miniconda3\\envs\\gee\\envs\\geemap\\envs\\gee2\\lib\\site-packages\\geopandas\\io\\file.py:362: FutureWarning: pandas.Int64Index is deprecated and will be removed from pandas in a future version. Use pandas.Index with the appropriate dtype instead.\n",
      "  pd.Int64Index,\n"
     ]
    }
   ],
   "source": [
    "# Load the Municipal Areas (FeatureCollection)\n",
    "london_extent_shp = '../data/shp/london_by_ward/raw_shp_file/LondonWard.shp'\n",
    "london_wards = geemap.shp_to_ee(london_extent_shp)\n",
    "\n",
    "Map.addLayer(london_wards, {}, 'London Wards')\n",
    "\n",
    "# NOTE:  This will create a warning on Windows. I'm successfully ignoring it for now.\n",
    "#        \"FutureWarning: pandas.Int64Index is deprecated and will be removed from pandas \n",
    "#        in a future version. Use pandas.Index with the appropriate dtype instead. \n",
    "#        pd.Int64Index\"\n"
   ]
  },
  {
   "cell_type": "code",
   "execution_count": 5,
   "id": "4e861358",
   "metadata": {},
   "outputs": [],
   "source": [
    "# LANDCOVER\n",
    "# Not sure if this will be significant. There isn't much in London. \n",
    "#\n",
    "# NOTE: See that `clipToCollection` method? It chops up our Rasters using our feature collection.\n",
    "#\n",
    "#    @see https://developers.google.com/earth-engine/datasets/catalog/MODIS_006_MCD12Q1#bands\n",
    "#    @see Clipping to a FeatureCollection https://developers.google.com/earth-engine/apidocs/ee-image-clip\n",
    "#\n",
    "landcover = ee.Image('MODIS/051/MCD12Q1/2013_01_01').select('Land_Cover_Type_1').clipToCollection(london_wards)\n",
    "Map.addLayer(landcover, {}, 'MODIS Land Cover')\n",
    "\n"
   ]
  },
  {
   "cell_type": "code",
   "execution_count": 6,
   "id": "5d7c98ad",
   "metadata": {},
   "outputs": [],
   "source": [
    "# @see https://developers.google.com/earth-engine/datasets/catalog/MODIS_006_MCD12Q1#bands\n",
    "landcover2Col = ee.Image('MODIS/051/MCD12Q1/2001_01_01').select('Land_Cover_Type_1')#.clipToCollection(london_wards)\n",
    "#landcover2Image = landcover2Col.first()\n",
    "Map.addLayer(landcover2Col, {}, 'MODIS Land Cover 2019-12-01')\n"
   ]
  },
  {
   "cell_type": "code",
   "execution_count": 7,
   "id": "7550a9be",
   "metadata": {},
   "outputs": [],
   "source": [
    "# @see https://developers.google.com/earth-engine/datasets/catalog/MODIS_006_MCD12Q1#bands\n",
    "MODIS_VIS_PALLETTE = {\n",
    "  'min': 1.0,\n",
    "  'max': 17.0,\n",
    "  'palette': [\n",
    "    '05450a', '086a10', '54a708', '78d203', '009900', 'c6b044', 'dcd159',\n",
    "    'dade48', 'fbff13', 'b6ff05', '27ff87', 'c24f44', 'a5a5a5', 'ff6d4c',\n",
    "    '69fff8', 'f9ffa4', '1c0dff'\n",
    "  ],\n",
    "}\n",
    "\n",
    "# @see Clipping to a FeatureCollection https://developers.google.com/earth-engine/apidocs/ee-image-clip\n",
    "modisLandcoverCol = ee.ImageCollection('MODIS/006/MCD12Q1').select('LC_Type1')\n",
    "#\n",
    "# NOTE: See that `clipToCollection` method? It chops up our Rasters using our feature collection.\n",
    "#\n",
    "# early years\n",
    "landcover2Image = modisLandcoverCol.filterDate('2019-01-01', '2019-12-31').first().clipToCollection(london_wards)\n",
    "Map.addLayer(landcover2Image, MODIS_VIS_PALLETTE, 'MODIS 2019')\n",
    "\n",
    "# later years\n",
    "landcover2Image = modisLandcoverCol.filterDate('2001-01-01', '2001-01-02').first().clipToCollection(london_wards)\n",
    "Map.addLayer(landcover2Image, MODIS_VIS_PALLETTE, 'MODIS 2001')"
   ]
  },
  {
   "cell_type": "code",
   "execution_count": 8,
   "id": "ee803bb3",
   "metadata": {},
   "outputs": [
    {
     "data": {
      "text/plain": [
       "<ee.featurecollection.FeatureCollection at 0x29883869fa0>"
      ]
     },
     "execution_count": 8,
     "metadata": {},
     "output_type": "execute_result"
    }
   ],
   "source": [
    "# check to see what kind of data type this is so we can see what we can do with it.\n",
    "london_wards"
   ]
  },
  {
   "cell_type": "code",
   "execution_count": 9,
   "id": "a4b0f94c",
   "metadata": {},
   "outputs": [],
   "source": [
    "ee_class_table = \"\"\"\n",
    "\n",
    "Value\tColor\tDescription\n",
    "0\t1c0dff\tWater\n",
    "1\t05450a\tEvergreen needleleaf forest\n",
    "2\t086a10\tEvergreen broadleaf forest\n",
    "3\t54a708\tDeciduous needleleaf forest\n",
    "4\t78d203\tDeciduous broadleaf forest\n",
    "5\t009900\tMixed forest\n",
    "6\tc6b044\tClosed shrublands\n",
    "7\tdcd159\tOpen shrublands\n",
    "8\tdade48\tWoody savannas\n",
    "9\tfbff13\tSavannas\n",
    "10\tb6ff05\tGrasslands\n",
    "11\t27ff87\tPermanent wetlands\n",
    "12\tc24f44\tCroplands\n",
    "13\ta5a5a5\tUrban and built-up\n",
    "14\tff6d4c\tCropland/natural vegetation mosaic\n",
    "15\t69fff8\tSnow and ice\n",
    "16\tf9ffa4\tBarren or sparsely vegetated\n",
    "254\tffffff\tUnclassified\n",
    "\n",
    "\"\"\"\n",
    "\n",
    "legend_dict = geemap.legend_from_ee(ee_class_table)\n",
    "Map.add_legend(legend_title=\"MODIS Global Land Cover\", legend_dict=legend_dict)\n",
    "\n"
   ]
  },
  {
   "cell_type": "code",
   "execution_count": 16,
   "id": "993bcb5d",
   "metadata": {},
   "outputs": [
    {
     "name": "stdout",
     "output_type": "stream",
     "text": [
      "Starting...\n",
      "2011 complete\n",
      "2012 complete\n",
      "2013 complete\n",
      "2014 complete\n",
      "2015 complete\n",
      "2016 complete\n",
      "2017 complete\n",
      "2018 complete\n",
      "2019 complete\n",
      "2020 complete\n",
      "2021 complete\n"
     ]
    },
    {
     "ename": "EEException",
     "evalue": "Image.select: Parameter 'input' is required.",
     "output_type": "error",
     "traceback": [
      "\u001b[1;31m---------------------------------------------------------------------------\u001b[0m",
      "\u001b[1;31mHttpError\u001b[0m                                 Traceback (most recent call last)",
      "File \u001b[1;32m~\\miniconda3\\envs\\gee\\envs\\geemap\\envs\\gee2\\lib\\site-packages\\ee\\data.py:334\u001b[0m, in \u001b[0;36m_execute_cloud_call\u001b[1;34m(call, num_retries)\u001b[0m\n\u001b[0;32m    333\u001b[0m \u001b[38;5;28;01mtry\u001b[39;00m:\n\u001b[1;32m--> 334\u001b[0m   \u001b[38;5;28;01mreturn\u001b[39;00m \u001b[43mcall\u001b[49m\u001b[38;5;241;43m.\u001b[39;49m\u001b[43mexecute\u001b[49m\u001b[43m(\u001b[49m\u001b[43mnum_retries\u001b[49m\u001b[38;5;241;43m=\u001b[39;49m\u001b[43mnum_retries\u001b[49m\u001b[43m)\u001b[49m\n\u001b[0;32m    335\u001b[0m \u001b[38;5;28;01mexcept\u001b[39;00m googleapiclient\u001b[38;5;241m.\u001b[39merrors\u001b[38;5;241m.\u001b[39mHttpError \u001b[38;5;28;01mas\u001b[39;00m e:\n",
      "File \u001b[1;32m~\\miniconda3\\envs\\gee\\envs\\geemap\\envs\\gee2\\lib\\site-packages\\googleapiclient\\_helpers.py:131\u001b[0m, in \u001b[0;36mpositional.<locals>.positional_decorator.<locals>.positional_wrapper\u001b[1;34m(*args, **kwargs)\u001b[0m\n\u001b[0;32m    130\u001b[0m         logger\u001b[38;5;241m.\u001b[39mwarning(message)\n\u001b[1;32m--> 131\u001b[0m \u001b[38;5;28;01mreturn\u001b[39;00m wrapped(\u001b[38;5;241m*\u001b[39margs, \u001b[38;5;241m*\u001b[39m\u001b[38;5;241m*\u001b[39mkwargs)\n",
      "File \u001b[1;32m~\\miniconda3\\envs\\gee\\envs\\geemap\\envs\\gee2\\lib\\site-packages\\googleapiclient\\http.py:937\u001b[0m, in \u001b[0;36mHttpRequest.execute\u001b[1;34m(self, http, num_retries)\u001b[0m\n\u001b[0;32m    936\u001b[0m \u001b[38;5;28;01mif\u001b[39;00m resp\u001b[38;5;241m.\u001b[39mstatus \u001b[38;5;241m>\u001b[39m\u001b[38;5;241m=\u001b[39m \u001b[38;5;241m300\u001b[39m:\n\u001b[1;32m--> 937\u001b[0m     \u001b[38;5;28;01mraise\u001b[39;00m HttpError(resp, content, uri\u001b[38;5;241m=\u001b[39m\u001b[38;5;28mself\u001b[39m\u001b[38;5;241m.\u001b[39muri)\n\u001b[0;32m    938\u001b[0m \u001b[38;5;28;01mreturn\u001b[39;00m \u001b[38;5;28mself\u001b[39m\u001b[38;5;241m.\u001b[39mpostproc(resp, content)\n",
      "\u001b[1;31mHttpError\u001b[0m: <HttpError 400 when requesting https://earthengine.googleapis.com/v1alpha/projects/earthengine-legacy/maps?fields=name&alt=json returned \"Image.select: Parameter 'input' is required.\". Details: \"Image.select: Parameter 'input' is required.\">",
      "\nDuring handling of the above exception, another exception occurred:\n",
      "\u001b[1;31mEEException\u001b[0m                               Traceback (most recent call last)",
      "Input \u001b[1;32mIn [16]\u001b[0m, in \u001b[0;36m<cell line: 80>\u001b[1;34m()\u001b[0m\n\u001b[0;32m     78\u001b[0m greenessByWard_2021_img \u001b[38;5;241m=\u001b[39m greenessPixel(\u001b[38;5;124m'\u001b[39m\u001b[38;5;124m2021-01-01\u001b[39m\u001b[38;5;124m'\u001b[39m, \u001b[38;5;124m'\u001b[39m\u001b[38;5;124m2021-12-31\u001b[39m\u001b[38;5;124m'\u001b[39m, \u001b[38;5;124m\"\u001b[39m\u001b[38;5;124m2021\u001b[39m\u001b[38;5;124m\"\u001b[39m)\n\u001b[0;32m     79\u001b[0m \u001b[38;5;28mprint\u001b[39m(\u001b[38;5;124m\"\u001b[39m\u001b[38;5;124m2021 complete\u001b[39m\u001b[38;5;124m\"\u001b[39m)\n\u001b[1;32m---> 80\u001b[0m greenessByWard_2022_img \u001b[38;5;241m=\u001b[39m \u001b[43mgreenessPixel\u001b[49m\u001b[43m(\u001b[49m\u001b[38;5;124;43m'\u001b[39;49m\u001b[38;5;124;43m2022-01-01\u001b[39;49m\u001b[38;5;124;43m'\u001b[39;49m\u001b[43m,\u001b[49m\u001b[43m \u001b[49m\u001b[38;5;124;43m'\u001b[39;49m\u001b[38;5;124;43m2022-12-31\u001b[39;49m\u001b[38;5;124;43m'\u001b[39;49m\u001b[43m,\u001b[49m\u001b[43m \u001b[49m\u001b[38;5;124;43m\"\u001b[39;49m\u001b[38;5;124;43m2022\u001b[39;49m\u001b[38;5;124;43m\"\u001b[39;49m\u001b[43m)\u001b[49m\n\u001b[0;32m     81\u001b[0m \u001b[38;5;28mprint\u001b[39m(\u001b[38;5;124m\"\u001b[39m\u001b[38;5;124m2022 complete\u001b[39m\u001b[38;5;124m\"\u001b[39m)\n",
      "Input \u001b[1;32mIn [16]\u001b[0m, in \u001b[0;36mgreenessPixel\u001b[1;34m(startDate, endDate, layerTitle)\u001b[0m\n\u001b[0;32m     49\u001b[0m maskedGreeness \u001b[38;5;241m=\u001b[39m greenness\u001b[38;5;241m.\u001b[39mupdateMask(mask)\n\u001b[0;32m     51\u001b[0m \u001b[38;5;66;03m# Display the layers on the map with mask applied.\u001b[39;00m\n\u001b[1;32m---> 52\u001b[0m \u001b[43mMap\u001b[49m\u001b[38;5;241;43m.\u001b[39;49m\u001b[43maddLayer\u001b[49m\u001b[43m(\u001b[49m\u001b[43mtrueColor\u001b[49m\u001b[38;5;241;43m.\u001b[39;49m\u001b[43mupdateMask\u001b[49m\u001b[43m(\u001b[49m\u001b[43mmask\u001b[49m\u001b[43m)\u001b[49m\u001b[43m,\u001b[49m\u001b[43m \u001b[49m\u001b[43mtrueColorVis\u001b[49m\u001b[43m,\u001b[49m\u001b[43m \u001b[49m\u001b[43mlayerTitle\u001b[49m\u001b[43m \u001b[49m\u001b[38;5;241;43m+\u001b[39;49m\u001b[43m \u001b[49m\u001b[38;5;124;43m'\u001b[39;49m\u001b[38;5;124;43m True Color (432)\u001b[39;49m\u001b[38;5;124;43m'\u001b[39;49m\u001b[43m,\u001b[49m\u001b[43m \u001b[49m\u001b[38;5;28;43;01mFalse\u001b[39;49;00m\u001b[43m)\u001b[49m;\n\u001b[0;32m     53\u001b[0m Map\u001b[38;5;241m.\u001b[39maddLayer(maskedGreeness, greennessVis, layerTitle \u001b[38;5;241m+\u001b[39m \u001b[38;5;124m'\u001b[39m\u001b[38;5;124m Greenness\u001b[39m\u001b[38;5;124m'\u001b[39m);\n\u001b[0;32m     55\u001b[0m \u001b[38;5;28;01mreturn\u001b[39;00m maskedGreeness\n",
      "File \u001b[1;32m~\\miniconda3\\envs\\gee\\envs\\geemap\\envs\\gee2\\lib\\site-packages\\geemap\\geemap.py:1409\u001b[0m, in \u001b[0;36mMap.add_ee_layer\u001b[1;34m(self, ee_object, vis_params, name, shown, opacity)\u001b[0m\n\u001b[0;32m   1406\u001b[0m         \u001b[38;5;28mprint\u001b[39m(\u001b[38;5;124m\"\u001b[39m\u001b[38;5;124mThe provided palette is invalid.\u001b[39m\u001b[38;5;124m\"\u001b[39m)\n\u001b[0;32m   1407\u001b[0m         \u001b[38;5;28;01mraise\u001b[39;00m \u001b[38;5;167;01mException\u001b[39;00m(e)\n\u001b[1;32m-> 1409\u001b[0m map_id_dict \u001b[38;5;241m=\u001b[39m \u001b[43mee\u001b[49m\u001b[38;5;241;43m.\u001b[39;49m\u001b[43mImage\u001b[49m\u001b[43m(\u001b[49m\u001b[43mimage\u001b[49m\u001b[43m)\u001b[49m\u001b[38;5;241;43m.\u001b[39;49m\u001b[43mgetMapId\u001b[49m\u001b[43m(\u001b[49m\u001b[43mvis_params\u001b[49m\u001b[43m)\u001b[49m\n\u001b[0;32m   1410\u001b[0m tile_layer \u001b[38;5;241m=\u001b[39m ipyleaflet\u001b[38;5;241m.\u001b[39mTileLayer(\n\u001b[0;32m   1411\u001b[0m     url\u001b[38;5;241m=\u001b[39mmap_id_dict[\u001b[38;5;124m\"\u001b[39m\u001b[38;5;124mtile_fetcher\u001b[39m\u001b[38;5;124m\"\u001b[39m]\u001b[38;5;241m.\u001b[39murl_format,\n\u001b[0;32m   1412\u001b[0m     attribution\u001b[38;5;241m=\u001b[39m\u001b[38;5;124m\"\u001b[39m\u001b[38;5;124mGoogle Earth Engine\u001b[39m\u001b[38;5;124m\"\u001b[39m,\n\u001b[1;32m   (...)\u001b[0m\n\u001b[0;32m   1416\u001b[0m     max_zoom\u001b[38;5;241m=\u001b[39m\u001b[38;5;241m24\u001b[39m,\n\u001b[0;32m   1417\u001b[0m )\n\u001b[0;32m   1419\u001b[0m layer \u001b[38;5;241m=\u001b[39m \u001b[38;5;28mself\u001b[39m\u001b[38;5;241m.\u001b[39mfind_layer(name\u001b[38;5;241m=\u001b[39mname)\n",
      "File \u001b[1;32m~\\miniconda3\\envs\\gee\\envs\\geemap\\envs\\gee2\\lib\\site-packages\\ee\\image.py:131\u001b[0m, in \u001b[0;36mImage.getMapId\u001b[1;34m(self, vis_params)\u001b[0m\n\u001b[0;32m    129\u001b[0m vis_image, request \u001b[38;5;241m=\u001b[39m \u001b[38;5;28mself\u001b[39m\u001b[38;5;241m.\u001b[39m_apply_visualization(vis_params)\n\u001b[0;32m    130\u001b[0m request[\u001b[38;5;124m'\u001b[39m\u001b[38;5;124mimage\u001b[39m\u001b[38;5;124m'\u001b[39m] \u001b[38;5;241m=\u001b[39m vis_image\n\u001b[1;32m--> 131\u001b[0m response \u001b[38;5;241m=\u001b[39m \u001b[43mdata\u001b[49m\u001b[38;5;241;43m.\u001b[39;49m\u001b[43mgetMapId\u001b[49m\u001b[43m(\u001b[49m\u001b[43mrequest\u001b[49m\u001b[43m)\u001b[49m\n\u001b[0;32m    132\u001b[0m response[\u001b[38;5;124m'\u001b[39m\u001b[38;5;124mimage\u001b[39m\u001b[38;5;124m'\u001b[39m] \u001b[38;5;241m=\u001b[39m \u001b[38;5;28mself\u001b[39m\n\u001b[0;32m    133\u001b[0m \u001b[38;5;28;01mreturn\u001b[39;00m response\n",
      "File \u001b[1;32m~\\miniconda3\\envs\\gee\\envs\\geemap\\envs\\gee2\\lib\\site-packages\\ee\\data.py:575\u001b[0m, in \u001b[0;36mgetMapId\u001b[1;34m(params)\u001b[0m\n\u001b[0;32m    572\u001b[0m   request[\u001b[38;5;124m'\u001b[39m\u001b[38;5;124mvisualizationOptions\u001b[39m\u001b[38;5;124m'\u001b[39m] \u001b[38;5;241m=\u001b[39m visualizationOptions\n\u001b[0;32m    573\u001b[0m \u001b[38;5;66;03m# Make it return only the name field, as otherwise it echoes the entire\u001b[39;00m\n\u001b[0;32m    574\u001b[0m \u001b[38;5;66;03m# request, which might be large.\u001b[39;00m\n\u001b[1;32m--> 575\u001b[0m result \u001b[38;5;241m=\u001b[39m \u001b[43m_execute_cloud_call\u001b[49m\u001b[43m(\u001b[49m\n\u001b[0;32m    576\u001b[0m \u001b[43m    \u001b[49m\u001b[43m_get_cloud_api_resource\u001b[49m\u001b[43m(\u001b[49m\u001b[43m)\u001b[49m\u001b[38;5;241;43m.\u001b[39;49m\u001b[43mprojects\u001b[49m\u001b[43m(\u001b[49m\u001b[43m)\u001b[49m\u001b[38;5;241;43m.\u001b[39;49m\u001b[43mmaps\u001b[49m\u001b[43m(\u001b[49m\u001b[43m)\u001b[49m\u001b[38;5;241;43m.\u001b[39;49m\u001b[43mcreate\u001b[49m\u001b[43m(\u001b[49m\n\u001b[0;32m    577\u001b[0m \u001b[43m        \u001b[49m\u001b[43mparent\u001b[49m\u001b[38;5;241;43m=\u001b[39;49m\u001b[43m_get_projects_path\u001b[49m\u001b[43m(\u001b[49m\u001b[43m)\u001b[49m\u001b[43m,\u001b[49m\u001b[43m \u001b[49m\u001b[43mfields\u001b[49m\u001b[38;5;241;43m=\u001b[39;49m\u001b[38;5;124;43m'\u001b[39;49m\u001b[38;5;124;43mname\u001b[39;49m\u001b[38;5;124;43m'\u001b[39;49m\u001b[43m,\u001b[49m\u001b[43m \u001b[49m\u001b[43mbody\u001b[49m\u001b[38;5;241;43m=\u001b[39;49m\u001b[43mrequest\u001b[49m\u001b[43m)\u001b[49m\u001b[43m)\u001b[49m\n\u001b[0;32m    578\u001b[0m map_name \u001b[38;5;241m=\u001b[39m result[\u001b[38;5;124m'\u001b[39m\u001b[38;5;124mname\u001b[39m\u001b[38;5;124m'\u001b[39m]\n\u001b[0;32m    579\u001b[0m url_format \u001b[38;5;241m=\u001b[39m \u001b[38;5;124m'\u001b[39m\u001b[38;5;132;01m%s\u001b[39;00m\u001b[38;5;124m/\u001b[39m\u001b[38;5;132;01m%s\u001b[39;00m\u001b[38;5;124m/\u001b[39m\u001b[38;5;132;01m%s\u001b[39;00m\u001b[38;5;124m/tiles/\u001b[39m\u001b[38;5;132;01m{z}\u001b[39;00m\u001b[38;5;124m/\u001b[39m\u001b[38;5;132;01m{x}\u001b[39;00m\u001b[38;5;124m/\u001b[39m\u001b[38;5;132;01m{y}\u001b[39;00m\u001b[38;5;124m'\u001b[39m \u001b[38;5;241m%\u001b[39m (\n\u001b[0;32m    580\u001b[0m     _tile_base_url, _cloud_api_utils\u001b[38;5;241m.\u001b[39mVERSION, map_name)\n",
      "File \u001b[1;32m~\\miniconda3\\envs\\gee\\envs\\geemap\\envs\\gee2\\lib\\site-packages\\ee\\data.py:336\u001b[0m, in \u001b[0;36m_execute_cloud_call\u001b[1;34m(call, num_retries)\u001b[0m\n\u001b[0;32m    334\u001b[0m   \u001b[38;5;28;01mreturn\u001b[39;00m call\u001b[38;5;241m.\u001b[39mexecute(num_retries\u001b[38;5;241m=\u001b[39mnum_retries)\n\u001b[0;32m    335\u001b[0m \u001b[38;5;28;01mexcept\u001b[39;00m googleapiclient\u001b[38;5;241m.\u001b[39merrors\u001b[38;5;241m.\u001b[39mHttpError \u001b[38;5;28;01mas\u001b[39;00m e:\n\u001b[1;32m--> 336\u001b[0m   \u001b[38;5;28;01mraise\u001b[39;00m _translate_cloud_exception(e)\n",
      "\u001b[1;31mEEException\u001b[0m: Image.select: Parameter 'input' is required."
     ]
    }
   ],
   "source": [
    "greennessVis = {\n",
    "  'min': 0.1,\n",
    "  'max': 0.85,\n",
    "  'palette': ['fffdcd', 'e1cd73', 'aaac20', '5f920c', '187328', '144b2a', '172313']\n",
    "};\n",
    "\n",
    "# Visualization parameters for true color display.\n",
    "trueColorVis = {\n",
    "  'min': 0.0,\n",
    "  'max': 0.4,\n",
    "  'gamma': 1.2,\n",
    "};\n",
    "\n",
    "    \n",
    "    \n",
    "def greenessPixel( startDate, endDate, layerTitle ):\n",
    "    \n",
    "    \"\"\"\n",
    "    Method for making layers with Greenest NDVI pixel: \n",
    "    Possible dates: 1999-01-01T00:00:00Z - 2021-01-01T00:00:00\n",
    "    \n",
    "    Parameters\n",
    "    ----------\n",
    "    startDate : str\n",
    "        Date start string. Like '2002-01-01'\n",
    "    endDate : str\n",
    "        Date end string. Like '2002-12-31'\n",
    "    layerTitle : str\n",
    "        The title prefix that will differentiate the two layers it will create from others.\n",
    "        \n",
    "    @see https://developers.google.com/earth-engine/datasets/catalog/LANDSAT_LE07_C01_T1_ANNUAL_GREENEST_TOA?hl=en\n",
    "    \"\"\"\n",
    "\n",
    "    # Import the dataset, filter to 2002, get the image.\n",
    "\n",
    "    dataset = ee.ImageCollection('LANDSAT/LE07/C01/T1_ANNUAL_GREENEST_TOA').filterDate(startDate, endDate).first();\n",
    "\n",
    "    # Get the greenness band.\n",
    "    greenness = dataset.select('greenness').clipToCollection(london_wards);\n",
    "\n",
    "    # Get bands for true color RGB display.\n",
    "    trueColor = dataset.select(['B3', 'B2', 'B1']).clipToCollection(london_wards); # NOTE: See that `clipToCollection` method? It chops up our Rasters using our feature collection.\n",
    "\n",
    "    # Define a mask for low greenness, make low greenness partially transparent.\n",
    "    mask = dataset.select('greenness').gt(0.1).remap([0, 1], [0.5, 1]);\n",
    "\n",
    "    # Visualization parameters for greenness display.\n",
    "    \n",
    "    maskedGreeness = greenness.updateMask(mask)\n",
    "    \n",
    "    # Display the layers on the map with mask applied.\n",
    "    Map.addLayer(trueColor.updateMask(mask), trueColorVis, layerTitle + ' True Color (432)', False);\n",
    "    Map.addLayer(maskedGreeness, greennessVis, layerTitle + ' Greenness');\n",
    "    \n",
    "    return maskedGreeness\n",
    "\n",
    "print(\"Starting...\")\n",
    "greenessByWard_2011_img = greenessPixel('2011-01-01', '2011-12-31', \"2011\")\n",
    "print(\"2011 complete\")\n",
    "greenessByWard_2012_img = greenessPixel('2012-01-01', '2012-12-31', \"2012\")\n",
    "print(\"2012 complete\")\n",
    "greenessByWard_2013_img = greenessPixel('2013-01-01', '2013-12-31', \"2013\")\n",
    "print(\"2013 complete\")\n",
    "greenessByWard_2014_img = greenessPixel('2014-01-01', '2014-12-31', \"2014\")\n",
    "print(\"2014 complete\")\n",
    "greenessByWard_2015_img = greenessPixel('2015-01-01', '2015-12-31', \"2015\")\n",
    "print(\"2015 complete\")\n",
    "greenessByWard_2016_img = greenessPixel('2016-01-01', '2016-12-31', \"2016\")\n",
    "print(\"2016 complete\")\n",
    "greenessByWard_2017_img = greenessPixel('2017-01-01', '2017-12-31', \"2017\")\n",
    "print(\"2017 complete\")\n",
    "greenessByWard_2018_img = greenessPixel('2018-01-01', '2018-12-31', \"2018\")\n",
    "print(\"2018 complete\")\n",
    "greenessByWard_2019_img = greenessPixel('2019-01-01', '2019-12-31', \"2019\")\n",
    "print(\"2019 complete\")\n",
    "greenessByWard_2020_img = greenessPixel('2020-01-01', '2020-12-31', \"2020\")\n",
    "print(\"2020 complete\")\n",
    "greenessByWard_2021_img = greenessPixel('2021-01-01', '2021-12-31', \"2021\")\n",
    "print(\"2021 complete\")\n"
   ]
  },
  {
   "cell_type": "code",
   "execution_count": 17,
   "id": "9750f358",
   "metadata": {},
   "outputs": [],
   "source": [
    "import os\n",
    "import ee\n",
    "import geemap\n",
    "\n",
    "def createShpWithMeanGreen( img, fc ):\n",
    "    # try and get the average \"Greeness\" (aka NDVI)\n",
    "    # feature collection\n",
    "    return img.reduceRegions( fc, ee.Reducer.mean(), 30, \"EPSG:32629\"); # london EPSG\n",
    "\n",
    "greenessByWard_2011 = createShpWithMeanGreen(greenessByWard_2011_img, london_wards)\n",
    "greenessByWard_2012 = createShpWithMeanGreen(greenessByWard_2012_img, london_wards)\n",
    "greenessByWard_2013 = createShpWithMeanGreen(greenessByWard_2013_img, london_wards)\n",
    "greenessByWard_2014 = createShpWithMeanGreen(greenessByWard_2014_img, london_wards)\n",
    "greenessByWard_2015 = createShpWithMeanGreen(greenessByWard_2015_img, london_wards)\n",
    "greenessByWard_2016 = createShpWithMeanGreen(greenessByWard_2016_img, london_wards)\n",
    "greenessByWard_2017 = createShpWithMeanGreen(greenessByWard_2017_img, london_wards)\n",
    "greenessByWard_2018 = createShpWithMeanGreen(greenessByWard_2018_img, london_wards)\n",
    "greenessByWard_2019 = createShpWithMeanGreen(greenessByWard_2019_img, london_wards)\n",
    "greenessByWard_2020 = createShpWithMeanGreen(greenessByWard_2020_img, london_wards)\n",
    "greenessByWard_2021 = createShpWithMeanGreen(greenessByWard_2021_img, london_wards)\n"
   ]
  },
  {
   "cell_type": "code",
   "execution_count": 18,
   "id": "c714955f",
   "metadata": {},
   "outputs": [
    {
     "name": "stdout",
     "output_type": "stream",
     "text": [
      "Generating URL ...\n",
      "Downloading data from https://earthengine.googleapis.com/v1alpha/projects/earthengine-legacy/tables/d27d6298e7717c742eb67475302b4285-edd3cf193704ea1b9b9e2cb21886f271:getFeatures\n",
      "Please wait ...\n",
      "Data downloaded to C:\\Users\\paulw\\Downloads\\London_MeanGreenessByWard_2011.shp\n",
      "Generating URL ...\n",
      "Downloading data from https://earthengine.googleapis.com/v1alpha/projects/earthengine-legacy/tables/963dbcfb32e2a8ff6d3cbd566c284667-953c00b4eba162206197c5da7653973b:getFeatures\n",
      "Please wait ...\n",
      "Data downloaded to C:\\Users\\paulw\\Downloads\\London_MeanGreenessByWard_2012.shp\n",
      "Generating URL ...\n",
      "Downloading data from https://earthengine.googleapis.com/v1alpha/projects/earthengine-legacy/tables/cba67e6a182a89d842e68dd7309ffa8b-3883b53ee43c81bc1a3cdb2bf5850a1e:getFeatures\n",
      "Please wait ...\n",
      "Data downloaded to C:\\Users\\paulw\\Downloads\\London_MeanGreenessByWard_2013.shp\n",
      "Generating URL ...\n",
      "Downloading data from https://earthengine.googleapis.com/v1alpha/projects/earthengine-legacy/tables/c96f04545e504cc0094eb0f48431c0b0-c90e9c0a3d01d16a092aa267efc5055d:getFeatures\n",
      "Please wait ...\n",
      "Data downloaded to C:\\Users\\paulw\\Downloads\\London_MeanGreenessByWard_2014.shp\n",
      "Generating URL ...\n",
      "Downloading data from https://earthengine.googleapis.com/v1alpha/projects/earthengine-legacy/tables/3cc37dbf2786f9972a61f4c3d74e7c9f-133f6013157e4694a9ec9fa6cc7546ce:getFeatures\n",
      "Please wait ...\n",
      "Data downloaded to C:\\Users\\paulw\\Downloads\\London_MeanGreenessByWard_2015.shp\n",
      "Generating URL ...\n",
      "Downloading data from https://earthengine.googleapis.com/v1alpha/projects/earthengine-legacy/tables/923a403fa2ffeaf8e58d3c48b1ed573f-1ad5ecaf8ddb908ec42eb5e62ad291c5:getFeatures\n",
      "Please wait ...\n",
      "Data downloaded to C:\\Users\\paulw\\Downloads\\London_MeanGreenessByWard_2016.shp\n",
      "Generating URL ...\n",
      "Downloading data from https://earthengine.googleapis.com/v1alpha/projects/earthengine-legacy/tables/33c9a311c73b8a2434c9db80404e7e55-b045ea061179569080c01a50e85cddff:getFeatures\n",
      "Please wait ...\n",
      "Data downloaded to C:\\Users\\paulw\\Downloads\\London_MeanGreenessByWard_2017.shp\n",
      "Generating URL ...\n",
      "Downloading data from https://earthengine.googleapis.com/v1alpha/projects/earthengine-legacy/tables/2400b8801161eb4ba236eeba2107e1fd-e9544a9018f6327b15dc62368d8763a6:getFeatures\n",
      "Please wait ...\n",
      "Data downloaded to C:\\Users\\paulw\\Downloads\\London_MeanGreenessByWard_2018.shp\n",
      "Generating URL ...\n",
      "Downloading data from https://earthengine.googleapis.com/v1alpha/projects/earthengine-legacy/tables/a215b1fe1e04e7f03b8657dce9502d8e-c36906b3db012466434ea186a86d54df:getFeatures\n",
      "Please wait ...\n",
      "Data downloaded to C:\\Users\\paulw\\Downloads\\London_MeanGreenessByWard_2019.shp\n",
      "Generating URL ...\n",
      "Downloading data from https://earthengine.googleapis.com/v1alpha/projects/earthengine-legacy/tables/609dc6c09f2c281bf5deb922eb028d1f-9826271fa787cc617974aae1451f2532:getFeatures\n",
      "Please wait ...\n",
      "Data downloaded to C:\\Users\\paulw\\Downloads\\London_MeanGreenessByWard_2020.shp\n",
      "Generating URL ...\n",
      "Downloading data from https://earthengine.googleapis.com/v1alpha/projects/earthengine-legacy/tables/2f34846a34ba18f29841d578ffe8f446-12070f58a2d570edc7a29609f1e5fecf:getFeatures\n",
      "Please wait ...\n",
      "Data downloaded to C:\\Users\\paulw\\Downloads\\London_MeanGreenessByWard_2021.shp\n"
     ]
    }
   ],
   "source": [
    "def writeToShpFile( fc, fileName):\n",
    "    # Write out shape file\n",
    "    out_dir = os.path.expanduser(\"~/Downloads\")\n",
    "\n",
    "    if not os.path.exists(out_dir):\n",
    "        os.makedirs(out_dir)\n",
    "\n",
    "    out_shp = os.path.join(out_dir, fileName)\n",
    "    geemap.ee_export_vector(fc, out_shp, verbose=True)\n",
    "\n",
    "writeToShpFile( greenessByWard_2011, \"London_MeanGreenessByWard_2011.shp\")\n",
    "writeToShpFile( greenessByWard_2012, \"London_MeanGreenessByWard_2012.shp\")\n",
    "writeToShpFile( greenessByWard_2013, \"London_MeanGreenessByWard_2013.shp\")\n",
    "writeToShpFile( greenessByWard_2014, \"London_MeanGreenessByWard_2014.shp\")\n",
    "writeToShpFile( greenessByWard_2015, \"London_MeanGreenessByWard_2015.shp\")\n",
    "writeToShpFile( greenessByWard_2016, \"London_MeanGreenessByWard_2016.shp\")\n",
    "writeToShpFile( greenessByWard_2017, \"London_MeanGreenessByWard_2017.shp\")\n",
    "writeToShpFile( greenessByWard_2018, \"London_MeanGreenessByWard_2018.shp\")\n",
    "writeToShpFile( greenessByWard_2019, \"London_MeanGreenessByWard_2019.shp\")\n",
    "writeToShpFile( greenessByWard_2020, \"London_MeanGreenessByWard_2020.shp\")\n",
    "writeToShpFile( greenessByWard_2021, \"London_MeanGreenessByWard_2021.shp\")\n"
   ]
  },
  {
   "cell_type": "code",
   "execution_count": null,
   "id": "f8713974",
   "metadata": {},
   "outputs": [],
   "source": []
  }
 ],
 "metadata": {
  "kernelspec": {
   "display_name": "Python 3 (ipykernel)",
   "language": "python",
   "name": "python3"
  },
  "language_info": {
   "codemirror_mode": {
    "name": "ipython",
    "version": 3
   },
   "file_extension": ".py",
   "mimetype": "text/x-python",
   "name": "python",
   "nbconvert_exporter": "python",
   "pygments_lexer": "ipython3",
   "version": "3.9.7"
  }
 },
 "nbformat": 4,
 "nbformat_minor": 5
}
